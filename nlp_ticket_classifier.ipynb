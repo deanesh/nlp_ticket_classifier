{
 "cells": [
  {
   "cell_type": "markdown",
   "id": "93267696",
   "metadata": {},
   "source": [
    "##### Jupter Notebook File - For any workings"
   ]
  },
  {
   "cell_type": "markdown",
   "id": "2ee7759e",
   "metadata": {},
   "source": []
  }
 ],
 "metadata": {
  "kernelspec": {
   "display_name": "Python 3",
   "language": "python",
   "name": "python3"
  },
  "language_info": {
   "name": "python",
   "version": "3.12.2"
  }
 },
 "nbformat": 4,
 "nbformat_minor": 5
}
